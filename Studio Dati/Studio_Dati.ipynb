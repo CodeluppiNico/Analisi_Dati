{
 "cells": [
  {
   "cell_type": "code",
   "execution_count": 166,
   "metadata": {
    "collapsed": true
   },
   "outputs": [],
   "source": [
    "import pandas as pd\n",
    "import geopandas as gpd\n",
    "import matplotlib.pyplot as plt\n",
    "import folium\n",
    "import numpy as np\n",
    "import datetime\n",
    "import matplotlib\n",
    "from os import listdir\n",
    "from os.path import isfile, join\n",
    "percorso = 'D:/Università/Tirocinio/Analisi Dati/Studio Dati/'\n",
    "onlyfiles = [f for f in listdir(f'{percorso}/risultati_terremoto/') if isfile(join(f'{percorso}/risultati_terremoto/', f))]\n",
    "inizio = pd.to_datetime('20160801', format='%Y%m%d')\n",
    "# Mancano 4 ore nel giorno 2016-08-16\n",
    "fine = pd.to_datetime('20160915', format='%Y%m%d')\n",
    "comune = 'Macerata'\n",
    "\n",
    "coms = pd.Series(pd.read_csv('D:/Università/Tirocinio/Analisi Dati/Grezzo Niki/sezione2comuneDEF.csv').comune.unique(), name= 'Comune')\n",
    "crateri = pd.read_csv('D:/Università/Tirocinio/Analisi Dati/Studio Dati/crateriCentroIT.csv', sep=';').merge(coms, how='outer').drop(columns='Provincia')\n",
    "crateri['Cratere Centro Italia 2016'].fillna('0', inplace=True)\n"
   ]
  },
  {
   "cell_type": "code",
   "execution_count": 170,
   "outputs": [
    {
     "name": "stdout",
     "output_type": "stream",
     "text": [
      "24\n"
     ]
    },
    {
     "data": {
      "text/plain": "      comune        data  terremotata            val\n0   Macerata  2016-08-01          1.0  157011.958333\n1   Macerata  2016-08-02          1.0  157654.114583\n2   Macerata  2016-08-03          1.0  156520.572917\n3   Macerata  2016-08-04          1.0  157503.343750\n4   Macerata  2016-08-05          1.0  160508.583333\n5   Macerata  2016-08-06          1.0  152546.427083\n6   Macerata  2016-08-07          1.0  137908.760417\n7   Macerata  2016-08-08          1.0  147401.218750\n8   Macerata  2016-08-09          1.0  145366.812500\n9   Macerata  2016-08-10          1.0  147182.520833\n10  Macerata  2016-08-11          1.0  148813.010417\n11  Macerata  2016-08-12          1.0  146557.093750\n12  Macerata  2016-08-13          1.0  134742.333333\n13  Macerata  2016-08-14          1.0  123327.927083\n14  Macerata  2016-08-15          1.0  111677.000000\n15  Macerata  2016-08-16          1.0  129837.900000\n16  Macerata  2016-09-01          1.0  172425.843750\n17  Macerata  2016-09-02          1.0  169588.333333\n18  Macerata  2016-09-03          1.0  158918.677083\n19  Macerata  2016-09-04          1.0  146690.229167\n20  Macerata  2016-09-05          1.0  170035.031250\n21  Macerata  2016-09-06          1.0  173436.552083\n22  Macerata  2016-09-07          1.0  176240.333333\n23  Macerata  2016-09-08          1.0  175098.187500\n24  Macerata  2016-09-09          1.0  175033.114583\n25  Macerata  2016-09-10          1.0  166709.468750\n26  Macerata  2016-09-11          1.0  158562.510417\n27  Macerata  2016-09-12          1.0  175989.739583\n28  Macerata  2016-09-13          1.0  179302.166667\n29  Macerata  2016-09-14          1.0  179816.281250\n30  Macerata  2016-09-15          1.0  181196.739583",
      "text/html": "<div>\n<style scoped>\n    .dataframe tbody tr th:only-of-type {\n        vertical-align: middle;\n    }\n\n    .dataframe tbody tr th {\n        vertical-align: top;\n    }\n\n    .dataframe thead th {\n        text-align: right;\n    }\n</style>\n<table border=\"1\" class=\"dataframe\">\n  <thead>\n    <tr style=\"text-align: right;\">\n      <th></th>\n      <th>comune</th>\n      <th>data</th>\n      <th>terremotata</th>\n      <th>val</th>\n    </tr>\n  </thead>\n  <tbody>\n    <tr>\n      <th>0</th>\n      <td>Macerata</td>\n      <td>2016-08-01</td>\n      <td>1.0</td>\n      <td>157011.958333</td>\n    </tr>\n    <tr>\n      <th>1</th>\n      <td>Macerata</td>\n      <td>2016-08-02</td>\n      <td>1.0</td>\n      <td>157654.114583</td>\n    </tr>\n    <tr>\n      <th>2</th>\n      <td>Macerata</td>\n      <td>2016-08-03</td>\n      <td>1.0</td>\n      <td>156520.572917</td>\n    </tr>\n    <tr>\n      <th>3</th>\n      <td>Macerata</td>\n      <td>2016-08-04</td>\n      <td>1.0</td>\n      <td>157503.343750</td>\n    </tr>\n    <tr>\n      <th>4</th>\n      <td>Macerata</td>\n      <td>2016-08-05</td>\n      <td>1.0</td>\n      <td>160508.583333</td>\n    </tr>\n    <tr>\n      <th>5</th>\n      <td>Macerata</td>\n      <td>2016-08-06</td>\n      <td>1.0</td>\n      <td>152546.427083</td>\n    </tr>\n    <tr>\n      <th>6</th>\n      <td>Macerata</td>\n      <td>2016-08-07</td>\n      <td>1.0</td>\n      <td>137908.760417</td>\n    </tr>\n    <tr>\n      <th>7</th>\n      <td>Macerata</td>\n      <td>2016-08-08</td>\n      <td>1.0</td>\n      <td>147401.218750</td>\n    </tr>\n    <tr>\n      <th>8</th>\n      <td>Macerata</td>\n      <td>2016-08-09</td>\n      <td>1.0</td>\n      <td>145366.812500</td>\n    </tr>\n    <tr>\n      <th>9</th>\n      <td>Macerata</td>\n      <td>2016-08-10</td>\n      <td>1.0</td>\n      <td>147182.520833</td>\n    </tr>\n    <tr>\n      <th>10</th>\n      <td>Macerata</td>\n      <td>2016-08-11</td>\n      <td>1.0</td>\n      <td>148813.010417</td>\n    </tr>\n    <tr>\n      <th>11</th>\n      <td>Macerata</td>\n      <td>2016-08-12</td>\n      <td>1.0</td>\n      <td>146557.093750</td>\n    </tr>\n    <tr>\n      <th>12</th>\n      <td>Macerata</td>\n      <td>2016-08-13</td>\n      <td>1.0</td>\n      <td>134742.333333</td>\n    </tr>\n    <tr>\n      <th>13</th>\n      <td>Macerata</td>\n      <td>2016-08-14</td>\n      <td>1.0</td>\n      <td>123327.927083</td>\n    </tr>\n    <tr>\n      <th>14</th>\n      <td>Macerata</td>\n      <td>2016-08-15</td>\n      <td>1.0</td>\n      <td>111677.000000</td>\n    </tr>\n    <tr>\n      <th>15</th>\n      <td>Macerata</td>\n      <td>2016-08-16</td>\n      <td>1.0</td>\n      <td>129837.900000</td>\n    </tr>\n    <tr>\n      <th>16</th>\n      <td>Macerata</td>\n      <td>2016-09-01</td>\n      <td>1.0</td>\n      <td>172425.843750</td>\n    </tr>\n    <tr>\n      <th>17</th>\n      <td>Macerata</td>\n      <td>2016-09-02</td>\n      <td>1.0</td>\n      <td>169588.333333</td>\n    </tr>\n    <tr>\n      <th>18</th>\n      <td>Macerata</td>\n      <td>2016-09-03</td>\n      <td>1.0</td>\n      <td>158918.677083</td>\n    </tr>\n    <tr>\n      <th>19</th>\n      <td>Macerata</td>\n      <td>2016-09-04</td>\n      <td>1.0</td>\n      <td>146690.229167</td>\n    </tr>\n    <tr>\n      <th>20</th>\n      <td>Macerata</td>\n      <td>2016-09-05</td>\n      <td>1.0</td>\n      <td>170035.031250</td>\n    </tr>\n    <tr>\n      <th>21</th>\n      <td>Macerata</td>\n      <td>2016-09-06</td>\n      <td>1.0</td>\n      <td>173436.552083</td>\n    </tr>\n    <tr>\n      <th>22</th>\n      <td>Macerata</td>\n      <td>2016-09-07</td>\n      <td>1.0</td>\n      <td>176240.333333</td>\n    </tr>\n    <tr>\n      <th>23</th>\n      <td>Macerata</td>\n      <td>2016-09-08</td>\n      <td>1.0</td>\n      <td>175098.187500</td>\n    </tr>\n    <tr>\n      <th>24</th>\n      <td>Macerata</td>\n      <td>2016-09-09</td>\n      <td>1.0</td>\n      <td>175033.114583</td>\n    </tr>\n    <tr>\n      <th>25</th>\n      <td>Macerata</td>\n      <td>2016-09-10</td>\n      <td>1.0</td>\n      <td>166709.468750</td>\n    </tr>\n    <tr>\n      <th>26</th>\n      <td>Macerata</td>\n      <td>2016-09-11</td>\n      <td>1.0</td>\n      <td>158562.510417</td>\n    </tr>\n    <tr>\n      <th>27</th>\n      <td>Macerata</td>\n      <td>2016-09-12</td>\n      <td>1.0</td>\n      <td>175989.739583</td>\n    </tr>\n    <tr>\n      <th>28</th>\n      <td>Macerata</td>\n      <td>2016-09-13</td>\n      <td>1.0</td>\n      <td>179302.166667</td>\n    </tr>\n    <tr>\n      <th>29</th>\n      <td>Macerata</td>\n      <td>2016-09-14</td>\n      <td>1.0</td>\n      <td>179816.281250</td>\n    </tr>\n    <tr>\n      <th>30</th>\n      <td>Macerata</td>\n      <td>2016-09-15</td>\n      <td>1.0</td>\n      <td>181196.739583</td>\n    </tr>\n  </tbody>\n</table>\n</div>"
     },
     "execution_count": 170,
     "metadata": {},
     "output_type": "execute_result"
    }
   ],
   "source": [
    "dfc = pd.read_csv(f'{percorso}/risultati_terremoto/CentroItalia_{inizio.strftime(\"%Y%m%d\")}_{inizio.strftime(\"%Y%m\")}30_24.csv', header=None)\n",
    "dfc.rename(columns={0: 'Comune', 1: 'val', 2: 'data'}, inplace=True)\n",
    "dfc = dfc.loc[dfc['Comune'] == comune]\n",
    "dfc = dfc.merge(crateri)\n",
    "dfc.rename(columns={'Cratere Centro Italia 2016': 'terremotata', 'Comune': 'comune'}, inplace=True)\n",
    "dfc['data'] = pd.to_datetime(dfc['data'], format='%Y%m%d_%H%M')\n",
    "print(dfc.comune.shape[0])\n",
    "\n",
    "for i in onlyfiles:\n",
    "    giorno = pd.to_datetime(i.split('_')[1], format='%Y%m%d')\n",
    "    if (giorno > inizio) and (giorno <= fine):\n",
    "\n",
    "        esempio = pd.read_csv(f'{percorso}/risultati_terremoto/{i}', header=None)\n",
    "        esempio.rename(columns={0: 'Comune', 1: 'val', 2: 'data'}, inplace=True)\n",
    "        esempio = esempio.loc[esempio['Comune'] == comune]\n",
    "        esempio = esempio.merge(crateri)\n",
    "        esempio.rename(columns={'Cratere Centro Italia 2016': 'terremotata', 'Comune' : 'comune'}, inplace= True)\n",
    "        esempio['data']= pd.to_datetime(esempio['data'], format='%Y%m%d_%H%M')\n",
    "        dfc = pd.concat([dfc, esempio])\n",
    "\n",
    "dfc.data = dfc.data.dt.date\n",
    "dfc = dfc.groupby(['comune', 'data','terremotata']).aggregate('val').mean().reset_index()\n",
    "dfc\n"
   ],
   "metadata": {
    "collapsed": false,
    "pycharm": {
     "name": "#%%\n"
    }
   }
  },
  {
   "cell_type": "code",
   "execution_count": 171,
   "outputs": [],
   "source": [
    "sedici = dfc.loc[dfc.data == pd.to_datetime('20160801', format='%Y%m%d').date()]['val']\n",
    "for i in range (len(dfc)):\n",
    "    dfc.iloc[i,3] = (dfc.iloc[i, 3] - sedici)*100/ sedici"
   ],
   "metadata": {
    "collapsed": false,
    "pycharm": {
     "name": "#%%\n"
    }
   }
  },
  {
   "cell_type": "code",
   "execution_count": 179,
   "outputs": [
    {
     "data": {
      "text/plain": "(array([17014., 17021., 17028., 17035., 17045., 17052., 17059.]),\n [Text(0, 0, ''),\n  Text(0, 0, ''),\n  Text(0, 0, ''),\n  Text(0, 0, ''),\n  Text(0, 0, ''),\n  Text(0, 0, ''),\n  Text(0, 0, '')])"
     },
     "execution_count": 179,
     "metadata": {},
     "output_type": "execute_result"
    },
    {
     "data": {
      "text/plain": "<Figure size 432x288 with 1 Axes>",
      "image/png": "[encoded data removed]"
     },
     "metadata": {
      "needs_background": "light"
     },
     "output_type": "display_data"
    }
   ],
   "source": [
    "plt.plot(dfc.data,dfc.val)\n",
    "plt.scatter(dfc.data, dfc.val)\n",
    "plt.xticks(rotation= 90)\n",
    "-"
   ],
   "metadata": {
    "collapsed": false,
    "pycharm": {
     "name": "#%%\n"
    }
   }
  }
 ],
 "metadata": {
  "kernelspec": {
   "display_name": "Python 3",
   "language": "python",
   "name": "python3"
  },
  "language_info": {
   "codemirror_mode": {
    "name": "ipython",
    "version": 2
   },
   "file_extension": ".py",
   "mimetype": "text/x-python",
   "name": "python",
   "nbconvert_exporter": "python",
   "pygments_lexer": "ipython2",
   "version": "2.7.6"
  }
 },
 "nbformat": 4,
 "nbformat_minor": 0
}