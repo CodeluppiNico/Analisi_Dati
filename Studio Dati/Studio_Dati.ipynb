{
 "cells": [
  {
   "cell_type": "code",
   "execution_count": 53,
   "metadata": {
    "collapsed": true
   },
   "outputs": [],
   "source": [
    "import pandas as pd\n",
    "import geopandas as gpd\n",
    "import folium\n",
    "import numpy as np\n",
    "import datetime\n",
    "from os import listdir\n",
    "from os.path import isfile, join\n",
    "percorso = 'D:/Università/Tirocinio/Analisi Dati/Studio Dati/'\n",
    "onlyfiles = [f for f in listdir(f'{percorso}/risultati_terremoto/') if isfile(join(f'{percorso}/risultati_terremoto/', f))]\n",
    "inizio = 20150413\n",
    "fine = 20150418\n",
    "comune = 'Abbateggio'\n",
    "\n",
    "coms = pd.Series(pd.read_csv('D:/Università/Tirocinio/Analisi Dati/Grezzo Niki/sezione2comuneDEF.csv').comune.unique(), name= 'Comune')\n",
    "crateri = pd.read_csv('D:/Università/Tirocinio/Analisi Dati/Studio Dati/crateriCentroIT.csv', sep=';').merge(coms, how='outer').drop(columns='Provincia')\n",
    "crateri['Cratere Centro Italia 2016'].fillna('0', inplace=True)\n",
    "crateri.rename(columns)"
   ]
  },
  {
   "cell_type": "code",
   "execution_count": 86,
   "outputs": [
    {
     "name": "stdout",
     "output_type": "stream",
     "text": [
      "processo\n",
      "processo\n",
      "processo\n",
      "processo\n",
      "processo\n",
      "processo\n"
     ]
    },
    {
     "ename": "IndexError",
     "evalue": "list index out of range",
     "output_type": "error",
     "traceback": [
      "\u001B[1;31m---------------------------------------------------------------------------\u001B[0m",
      "\u001B[1;31mIndexError\u001B[0m                                Traceback (most recent call last)",
      "\u001B[1;32m<ipython-input-86-de3cc2032d03>\u001B[0m in \u001B[0;36m<module>\u001B[1;34m\u001B[0m\n\u001B[0;32m      1\u001B[0m \u001B[1;32mfor\u001B[0m \u001B[0mi\u001B[0m \u001B[1;32min\u001B[0m \u001B[0monlyfiles\u001B[0m\u001B[1;33m:\u001B[0m\u001B[1;33m\u001B[0m\u001B[1;33m\u001B[0m\u001B[0m\n\u001B[1;32m----> 2\u001B[1;33m     \u001B[1;32mif\u001B[0m \u001B[1;33m(\u001B[0m\u001B[0mint\u001B[0m\u001B[1;33m(\u001B[0m\u001B[0mi\u001B[0m\u001B[1;33m.\u001B[0m\u001B[0msplit\u001B[0m\u001B[1;33m(\u001B[0m\u001B[1;34m'_'\u001B[0m\u001B[1;33m)\u001B[0m\u001B[1;33m[\u001B[0m\u001B[1;36m1\u001B[0m\u001B[1;33m]\u001B[0m\u001B[1;33m)\u001B[0m\u001B[1;33m>=\u001B[0m \u001B[0minizio\u001B[0m\u001B[1;33m)\u001B[0m \u001B[1;33m&\u001B[0m \u001B[1;33m(\u001B[0m\u001B[0mint\u001B[0m\u001B[1;33m(\u001B[0m\u001B[0mi\u001B[0m\u001B[1;33m.\u001B[0m\u001B[0msplit\u001B[0m\u001B[1;33m(\u001B[0m\u001B[1;34m'_'\u001B[0m\u001B[1;33m)\u001B[0m\u001B[1;33m[\u001B[0m\u001B[1;36m1\u001B[0m\u001B[1;33m]\u001B[0m\u001B[1;33m)\u001B[0m \u001B[1;33m<=\u001B[0m \u001B[0mfine\u001B[0m\u001B[1;33m)\u001B[0m\u001B[1;33m:\u001B[0m\u001B[1;33m\u001B[0m\u001B[1;33m\u001B[0m\u001B[0m\n\u001B[0m\u001B[0;32m      3\u001B[0m         \u001B[0mprint\u001B[0m\u001B[1;33m(\u001B[0m\u001B[1;34m'processo'\u001B[0m\u001B[1;33m)\u001B[0m\u001B[1;33m\u001B[0m\u001B[1;33m\u001B[0m\u001B[0m\n\u001B[0;32m      4\u001B[0m \u001B[1;33m\u001B[0m\u001B[0m\n\u001B[0;32m      5\u001B[0m \u001B[1;33m\u001B[0m\u001B[0m\n",
      "\u001B[1;31mIndexError\u001B[0m: list index out of range"
     ]
    }
   ],
   "source": [
    "for i in onlyfiles:\n",
    "    if (int(i.split('_')[1])>= inizio) & (int(i.split('_')[1]) <= fine):\n",
    "        esempio = pd.read_csv(f'{percorso}/risultati_terremoto/CentroItalia_20150401_20150430_24.csv',header= None).rename(columns= {0: 'Comune', 1: 'val', 2: 'data'}, inplace = True)\n",
    "        esempio = esempio.loc[esempio['Comune']== comune]\n",
    "        esempio = crateri.merge(esempio, how= 'outer')\n",
    "        esempio['Cratere Centro Italia 2016'].fillna(0, inplace= True)\n",
    "        esempio.drop(columns= 'Provincia', inplace = True)\n",
    "        esempio.rename(columns={'Cratere Centro Italia 2016': 'terremotata', 'Comune' : 'comune'}, inplace= True)\n",
    "        esempio = esempio.sort_values(['comune', 'data'])\n",
    "        esempio['data']= pd.to_datetime(esempio['data'], format='%Y%m%d_%H%M')"
   ],
   "metadata": {
    "collapsed": false,
    "pycharm": {
     "name": "#%%\n"
    }
   }
  },
  {
   "cell_type": "code",
   "execution_count": 23,
   "outputs": [],
   "source": [
    "esempio = pd.read_csv(f'{percorso}/risultati_terremoto/CentroItalia_20150401_20150430_24.csv', header=None)\n",
    "esempio.rename(columns={0: 'Comune', 1: 'val', 2: 'data'}, inplace=True)\n",
    "esempio = esempio.loc[esempio['Comune'] == comune]\n",
    "# esempio = crateri.merge(esempio, how='outer')"
   ],
   "metadata": {
    "collapsed": false,
    "pycharm": {
     "name": "#%%\n"
    }
   }
  },
  {
   "cell_type": "code",
   "execution_count": 54,
   "outputs": [
    {
     "data": {
      "text/plain": "                   Comune Cratere Centro Italia 2016\n0           Cerreto d'Esi                        1.0\n1                Fabriano                        1.0\n2        Acquasanta Terme                        1.0\n3    Appignano del Tronto                        1.0\n4      Arquata del Tronto                        1.0\n..                    ...                        ...\n658           Sante Marie                          0\n659           Roccacasale                          0\n660       Montorio Romano                          0\n661              Manziana                          0\n662                Celano                          0\n\n[663 rows x 2 columns]",
      "text/html": "<div>\n<style scoped>\n    .dataframe tbody tr th:only-of-type {\n        vertical-align: middle;\n    }\n\n    .dataframe tbody tr th {\n        vertical-align: top;\n    }\n\n    .dataframe thead th {\n        text-align: right;\n    }\n</style>\n<table border=\"1\" class=\"dataframe\">\n  <thead>\n    <tr style=\"text-align: right;\">\n      <th></th>\n      <th>Comune</th>\n      <th>Cratere Centro Italia 2016</th>\n    </tr>\n  </thead>\n  <tbody>\n    <tr>\n      <th>0</th>\n      <td>Cerreto d'Esi</td>\n      <td>1.0</td>\n    </tr>\n    <tr>\n      <th>1</th>\n      <td>Fabriano</td>\n      <td>1.0</td>\n    </tr>\n    <tr>\n      <th>2</th>\n      <td>Acquasanta Terme</td>\n      <td>1.0</td>\n    </tr>\n    <tr>\n      <th>3</th>\n      <td>Appignano del Tronto</td>\n      <td>1.0</td>\n    </tr>\n    <tr>\n      <th>4</th>\n      <td>Arquata del Tronto</td>\n      <td>1.0</td>\n    </tr>\n    <tr>\n      <th>...</th>\n      <td>...</td>\n      <td>...</td>\n    </tr>\n    <tr>\n      <th>658</th>\n      <td>Sante Marie</td>\n      <td>0</td>\n    </tr>\n    <tr>\n      <th>659</th>\n      <td>Roccacasale</td>\n      <td>0</td>\n    </tr>\n    <tr>\n      <th>660</th>\n      <td>Montorio Romano</td>\n      <td>0</td>\n    </tr>\n    <tr>\n      <th>661</th>\n      <td>Manziana</td>\n      <td>0</td>\n    </tr>\n    <tr>\n      <th>662</th>\n      <td>Celano</td>\n      <td>0</td>\n    </tr>\n  </tbody>\n</table>\n<p>663 rows × 2 columns</p>\n</div>"
     },
     "execution_count": 54,
     "metadata": {},
     "output_type": "execute_result"
    }
   ],
   "source": [],
   "metadata": {
    "collapsed": false,
    "pycharm": {
     "name": "#%%\n"
    }
   }
  }
 ],
 "metadata": {
  "kernelspec": {
   "display_name": "Python 3",
   "language": "python",
   "name": "python3"
  },
  "language_info": {
   "codemirror_mode": {
    "name": "ipython",
    "version": 2
   },
   "file_extension": ".py",
   "mimetype": "text/x-python",
   "name": "python",
   "nbconvert_exporter": "python",
   "pygments_lexer": "ipython2",
   "version": "2.7.6"
  }
 },
 "nbformat": 4,
 "nbformat_minor": 0
}