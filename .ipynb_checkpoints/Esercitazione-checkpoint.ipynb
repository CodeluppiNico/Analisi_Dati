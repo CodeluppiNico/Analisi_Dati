{
 "cells": [
  {
   "cell_type": "code",
   "execution_count": 10,
   "metadata": {
    "collapsed": true,
    "pycharm": {
     "name": "#%%\n"
    }
   },
   "outputs": [],
   "source": [
    " import geopandas as gpd\n",
    "import pandas as pd\n",
    "import numpy as np\n",
    "import matplotlib.pyplot as plt\n",
    "from datetime import datetime\n",
    "import calendar\n",
    "import folium\n",
    "import shapefile\n",
    "import math\n",
    "from os import listdir\n",
    "from os.path import isfile, join\n",
    "from pandas.plotting import register_matplotlib_converters\n",
    "register_matplotlib_converters()\n",
    "from shapely.geometry.polygon import Polygon\n",
    "from descartes import PolygonPatch\n",
    "from mpl_toolkits.axes_grid1 import make_axes_locatable\n",
    "\n",
    "base_dir = 'Dati/dataset'\n",
    "\n",
    "to_mese = {'1': 'Jan', '2': 'Feb', '3': 'Mar', '4': 'Apr', '5': 'May',\n",
    "            '6': 'Jun', '7': 'Jul', '8': 'Aug', '9': 'Sep', '10': 'Oct', '11': 'Nov', '12': 'Dec'}\n"
   ]
  },
  {
   "cell_type": "code",
   "execution_count": 11,
   "metadata": {
    "pycharm": {
     "name": "#%%\n"
    }
   },
   "outputs": [],
   "source": [
    "Files = [\n",
    "'MarcheQuakeArea_20150416_20150427_24.csv',\n",
    "'MarcheQuakeArea_20150516_20150527_24.csv',\n",
    "'MarcheQuakeArea_20150916_20150927_24.csv',\n",
    "'MarcheQuakeArea_20160416_20160427_24.csv',\n",
    "'MarcheQuakeArea_20160516_20160527_24.csv',\n",
    "'MarcheQuakeArea_20160816_20160901_24.csv', # mese del terremoto\n",
    "'MarcheQuakeArea_20160916_20160927_24.csv',\n",
    "'MarcheQuakeArea_20161016_20161027_24.csv',\n",
    "'MarcheQuakeArea_20170416_20170427_24.csv',\n",
    "'MarcheQuakeArea_20170516_20170527_24.csv',\n",
    "'MarcheQuakeArea_20170916_20170927_24.csv',\n",
    "'MarcheQuakeArea_20171016_20171027_24.csv',\n",
    "'MarcheQuakeArea_20180401_20180413_24.csv'\n",
    "]\n",
    "def leggi_file (comune, File):\n",
    "    data = pd.read_csv(f'{base_dir}/{File}')\n",
    "    data.rtime = pd.to_datetime(data.time, format = '%Y%m%d_%H%M')\n",
    "    data['hour'] = data.rtime.dt.hour\n",
    "    mese = f'{data.time[0][4:6]}-{data.time[0][:4]}'\n",
    "    data = data.loc[(data.hour > 23) | (data.hour < 7)]\n",
    "    data = data.drop('hour', axis = 'columns')\n",
    "    data = data.loc[data.assoc_comuni == comune]\n",
    "    if 'rtime' in data.columns:\n",
    "        data = data.drop( 'rtime', axis = 'columns')\n",
    "    data = data.drop(['time', 'assoc_comuni'], axis = 'columns').groupby(['base2mid', 'RER_32']).aggregate('val').mean().reset_index()\n",
    "    data = data.rename(columns = {'val': mese})\n",
    "    return data"
   ]
  },
  {
   "cell_type": "code",
   "execution_count": 12,
   "metadata": {
    "pycharm": {
     "name": "#%%\n"
    }
   },
   "outputs": [
    {
     "name": "stderr",
     "output_type": "stream",
     "text": [
      "<ipython-input-11-48a7bd99a814>:18: UserWarning: Pandas doesn't allow columns to be created via a new attribute name - see https://pandas.pydata.org/pandas-docs/stable/indexing.html#attribute-access\n",
      "  data.rtime = pd.to_datetime(data.time, format = '%Y%m%d_%H%M')\n",
      "<ipython-input-11-48a7bd99a814>:18: UserWarning: Pandas doesn't allow columns to be created via a new attribute name - see https://pandas.pydata.org/pandas-docs/stable/indexing.html#attribute-access\n",
      "  data.rtime = pd.to_datetime(data.time, format = '%Y%m%d_%H%M')\n",
      "<ipython-input-11-48a7bd99a814>:18: UserWarning: Pandas doesn't allow columns to be created via a new attribute name - see https://pandas.pydata.org/pandas-docs/stable/indexing.html#attribute-access\n",
      "  data.rtime = pd.to_datetime(data.time, format = '%Y%m%d_%H%M')\n"
     ]
    }
   ],
   "source": [
    "comune = 'Macerata'\n",
    "data =  leggi_file(comune, Files[0])\n",
    "for i in range(1,len(Files)):\n",
    "    data = data.merge(leggi_file(comune, Files[i]))"
   ]
  },
  {
   "cell_type": "code",
   "execution_count": null,
   "metadata": {
    "pycharm": {
     "name": "#%%\n"
    }
   },
   "outputs": [],
   "source": [
    "sezione = '879 1'\n",
    "def plot(sezione, data):\n",
    "    grafico = data.loc[data.base2mid == sezione]\n",
    "    grafico = grafico.melt( id_vars = ['base2mid', 'RER_32'], value_vars = grafico.columns[2:])\n",
    "    plt.plot(data.columns[2:], grafico.value)\n",
    "    plt.scatter(data.columns[2:], grafico.value)\n",
    "    plt.grid()\n",
    "    plt.xticks(rotation=90, c = 'green')\n",
    "    plt.yticks(c = 'green')\n",
    "    hq = 'zona terremotata' if data.iloc[ 0,1] == 1 else 'zona non terremotata'\n",
    "    plt.title(f'{sezione}, sezione di {comune}, {hq}', c = 'green')\n",
    "plot(sezione,data)"
   ]
  },
  {
   "cell_type": "code",
   "execution_count": null,
   "metadata": {
    "pycharm": {
     "name": "#%%\n"
    }
   },
   "outputs": [],
   "source": [
    "perc = data.copy()\n",
    "for i in range(3, data.columns.size):\n",
    "    perc.iloc[:,i]= (perc.iloc[:, i] - perc.iloc[:,2])/perc.iloc[:,i] *100\n",
    "perc.iloc[:,2] = 0\n",
    "plot(sezione, perc)"
   ]
  },
  {
   "cell_type": "code",
   "execution_count": null,
   "metadata": {
    "pycharm": {
     "name": "#%%\n"
    }
   },
   "outputs": [],
   "source": [
    "sez = gpd.read_file('Istat/Com01012016_WGS84.shp')\n",
    "sez = sez[['COMUNE', 'geometry', 'PRO_COM']]\n",
    "sez.head()"
   ]
  },
  {
   "cell_type": "code",
   "execution_count": null,
   "metadata": {
    "pycharm": {
     "name": "#%%\n"
    }
   },
   "outputs": [],
   "source": [
    "for i in range (0,len(Files)):\n",
    "    cartella_destinazione = 'Dati/Fatti da Niki/'\n",
    "    data = pd.read_csv(f'{base_dir}/{Files[i]}')\n",
    "    data['rtime'] = pd.to_datetime(data.time, format = '%Y%m%d_%H%M')\n",
    "    data['hour'] = data.rtime.dt.hour\n",
    "    mese = f'{data.time[0][4:6]}-{data.time[0][:4]}'\n",
    "    data = data.loc[(data.hour > 23) | (data.hour < 7)]\n",
    "    data = data.drop('hour', axis = 'columns')\n",
    "    data = data.groupby(['time', 'assoc_comuni']).aggregate('val').sum().reset_index()\n",
    "    data['day'] = data.rtime.dt.date\n",
    "    data = data.groupby(['assoc_comuni','day']).aggregate('val').mean().reset_index()\n",
    "    data= data.rename(columns = {'assoc_comuni' : 'comune', 'day' : 'data', 'val' : 'n_abitanti'})\n",
    "    mese = f'{Files[i].split(\"_\")[1][4:6]}-{Files[i].split(\"_\")[1][:4]}'\n",
    "    data.to_csv(f'{cartella_destinazione}Marche({mese}).csv', index = False)\n",
    "    print(f'{mese} -> fatto!')"
   ]
  },
  {
   "cell_type": "code",
   "execution_count": 14,
   "metadata": {
    "pycharm": {
     "name": "#%%\n"
    }
   },
   "outputs": [],
   "source": [
    "FileN = [\n",
    "'Marche(04-2015).csv',\n",
    "'Marche(04-2016).csv',\n",
    "'Marche(04-2017).csv',\n",
    "'Marche(04-2018).csv',\n",
    "'Marche(05-2015).csv',\n",
    "'Marche(05-2016).csv',\n",
    "'Marche(05-2017).csv',\n",
    "'Marche(08-2016).csv',\n",
    "'Marche(09-2015).csv',\n",
    "'Marche(09-2016).csv',\n",
    "'Marche(09-2017).csv',\n",
    "'Marche(10-2016).csv',\n",
    "'Marche(10-2017).csv']\n",
    "\n",
    "percNiki = 'Dati/Fatti da Niki'\n",
    "base = pd.read_csv(f'{percNiki}/{FileN[0]}')\n",
    "for i in range(1, len(FileN)):\n",
    "    base = base.append(pd.read_csv(f'{percNiki}/{FileN[i]}'))\n",
    "base = base.rename(columns = {'n_abitanti' : 'val'})\n"
   ]
  },
  {
   "cell_type": "code",
   "execution_count": null,
   "metadata": {
    "pycharm": {
     "name": "#%%\n"
    }
   },
   "outputs": [],
   "source": [
    "data = base.copy()\n",
    "comune = 'Ancona'\n",
    "data = data.loc[data.comune == comune]\n",
    "data = data.loc[~(data.val == 0)]\n",
    "data['mese'] = data.data.apply(lambda y: y[:-3])\n",
    "data = data.groupby('mese').aggregate('val').mean().reset_index()\n",
    "\n",
    "\n",
    "def plot(data):\n",
    "    plt.plot(data['mese'], data['val'])\n",
    "    plt.scatter(data['mese'], data['val'])\n",
    "    plt.xticks(rotation=90)\n",
    "    plt.grid()\n",
    "    hq_time = datetime.strptime('20160824_0336','%Y%m%d_%H%M')\n",
    "plot(data)"
   ]
  },
  {
   "cell_type": "code",
   "execution_count": 27,
   "metadata": {
    "pycharm": {
     "name": "#%%\n"
    }
   },
   "outputs": [],
   "source": [
    "comu = base.comune.unique()\n",
    "\n",
    "utile = base.loc[base.comune == comu[0]]\n",
    "utile = utile.loc[~(utile.val == 0)]\n",
    "utile['mese'] = utile.data.apply(lambda y: y[:-3])\n",
    "utile = utile.groupby('mese').aggregate('val').mean().reset_index()\n",
    "utile = utile.transpose()\n",
    "for i in range(1, len(utile.columns)):\n",
    "    utile.iloc[1, i] = (utile.iloc[1,i] - utile.iloc[1,0])/utile.iloc[1,0] *100\n",
    "utile.iloc[1,0] = 0\n",
    "\n",
    "\n",
    "for i in comu[1:]:\n",
    "    db = base.loc[base.comune == i]\n",
    "    db = db.loc[~(db.val == 0)]\n",
    "    db['mese'] = db.data.apply(lambda y: y[:-3])\n",
    "    db = db.groupby('mese').aggregate('val').mean().reset_index()\n",
    "    db = db.transpose()\n",
    "    for i in range(1, len(db.columns)):\n",
    "        db.iloc[1, i] = (db.iloc[1,i] - db.iloc[1,0])/db.iloc[1,0] *100\n",
    "    db.iloc[1,0] = 0\n",
    "    utile = utile.append(db.iloc[1,:])\n",
    "utile = utile.rename(columns = {0 : utile.iloc[0,0], 1: utile.iloc[0,1], 2: utile.iloc[0,2], 3: utile.iloc[0,3], 4: utile.iloc[0,4], 5: utile.iloc[0,5], 6: utile.iloc[0,6], 7: utile.iloc[0,7], 8: utile.iloc[0,8], 9: utile.iloc[0,9], 10: utile.iloc[0,10], 11: utile.iloc[0,11], 12: utile.iloc[0,12]})\n",
    "utile = utile.drop(index = 'mese')\n",
    "utile = utile.set_index(comu)\n",
    "utile.to_csv('Dati/Fatti da Niki/Marche_perc_TOT.csv')"
   ]
  },
  {
   "cell_type": "markdown",
   "metadata": {
    "pycharm": {
     "name": "#%% m\n"
    }
   },
   "source": [
    "Usiamo il file Marche_perc_TOT\n"
   ]
  },
  {
   "cell_type": "code",
   "execution_count": null,
   "metadata": {
    "pycharm": {
     "name": "#%%\n"
    }
   },
   "outputs": [],
   "source": []
  }
 ],
 "metadata": {
  "kernelspec": {
   "display_name": "Ambiente",
   "language": "python",
   "name": "ambiente"
  },
  "language_info": {
   "codemirror_mode": {
    "name": "ipython",
    "version": 3
   },
   "file_extension": ".py",
   "mimetype": "text/x-python",
   "name": "python",
   "nbconvert_exporter": "python",
   "pygments_lexer": "ipython3",
   "version": "3.8.8"
  }
 },
 "nbformat": 4,
 "nbformat_minor": 1
}
